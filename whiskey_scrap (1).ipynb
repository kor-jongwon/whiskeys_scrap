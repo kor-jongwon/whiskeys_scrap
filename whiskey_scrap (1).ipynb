{
 "cells": [
  {
   "cell_type": "markdown",
   "id": "fdd279cf-142c-410c-b01d-1e624197ab02",
   "metadata": {},
   "source": [
    "# import pacakage setting"
   ]
  },
  {
   "cell_type": "code",
   "execution_count": 25,
   "id": "d602e347-cf96-41ad-b736-5adcdc4f4a72",
   "metadata": {},
   "outputs": [],
   "source": [
    "from selenium import webdriver\n",
    "from selenium.webdriver.support.ui import WebDriverWait\n",
    "import pandas as pd\n",
    "from bs4 import BeautifulSoup\n",
    "from tqdm import tqdm\n",
    "import chromedriver_autoinstaller\n",
    "tqdm.pandas()"
   ]
  },
  {
   "cell_type": "markdown",
   "id": "1589dbeb-742c-4c29-b54b-2440d6f84c9b",
   "metadata": {},
   "source": [
    "# Page 1 scrap"
   ]
  },
  {
   "cell_type": "markdown",
   "id": "5bf667d9-c3e9-40ef-8279-a03e89e4f023",
   "metadata": {},
   "source": [
    "### 위스키 증류소 수집 코드"
   ]
  },
  {
   "cell_type": "code",
   "execution_count": 14,
   "id": "55c03625-3e4c-4c59-b0ae-60b02066274a",
   "metadata": {
    "collapsed": true,
    "jupyter": {
     "outputs_hidden": true
    },
    "scrolled": true
   },
   "outputs": [
    {
     "name": "stdout",
     "output_type": "stream",
     "text": [
      "Unexpected exception formatting exception. Falling back to standard exception\n"
     ]
    },
    {
     "name": "stderr",
     "output_type": "stream",
     "text": [
      "Traceback (most recent call last):\n",
      "  File \"C:\\Users\\bmsyg\\PycharmProjects\\pythonProject\\venv\\lib\\site-packages\\IPython\\core\\interactiveshell.py\", line 3508, in run_code\n",
      "    exec(code_obj, self.user_global_ns, self.user_ns)\n",
      "  File \"C:\\Users\\bmsyg\\AppData\\Local\\Temp\\ipykernel_22196\\1100265356.py\", line 10, in <module>\n",
      "    html = driver.page_source\n",
      "  File \"C:\\Users\\bmsyg\\PycharmProjects\\pythonProject\\venv\\lib\\site-packages\\selenium\\webdriver\\remote\\webdriver.py\", line 447, in page_source\n",
      "    driver.find_elements_by_css_selector('.foo')\n",
      "  File \"C:\\Users\\bmsyg\\PycharmProjects\\pythonProject\\venv\\lib\\site-packages\\selenium\\webdriver\\remote\\webdriver.py\", line 346, in execute\n",
      "  File \"C:\\Users\\bmsyg\\PycharmProjects\\pythonProject\\venv\\lib\\site-packages\\selenium\\webdriver\\remote\\errorhandler.py\", line 245, in check_response\n",
      "selenium.common.exceptions.NoSuchWindowException: Message: no such window: target window already closed\n",
      "from unknown error: web view not found\n",
      "  (Session info: chrome=115.0.5790.102)\n",
      "Stacktrace:\n",
      "Backtrace:\n",
      "\tGetHandleVerifier [0x00501C53+49427]\n",
      "\t(No symbol) [0x00495F41]\n",
      "\t(No symbol) [0x0039C64D]\n",
      "\t(No symbol) [0x003832E5]\n",
      "\t(No symbol) [0x003E868B]\n",
      "\t(No symbol) [0x003F6A63]\n",
      "\t(No symbol) [0x003E4816]\n",
      "\t(No symbol) [0x003C1127]\n",
      "\t(No symbol) [0x003C22AD]\n",
      "\tGetHandleVerifier [0x00757149+2496009]\n",
      "\tGetHandleVerifier [0x0079D572+2783794]\n",
      "\tGetHandleVerifier [0x00797491+2758993]\n",
      "\tGetHandleVerifier [0x005811D0+571024]\n",
      "\t(No symbol) [0x0049F96A]\n",
      "\t(No symbol) [0x0049BD88]\n",
      "\t(No symbol) [0x0049BE6B]\n",
      "\t(No symbol) [0x0048EA97]\n",
      "\tBaseThreadInitThunk [0x76627D59+25]\n",
      "\tRtlInitializeExceptionChain [0x7763B79B+107]\n",
      "\tRtlClearBits [0x7763B71F+191]\n",
      "\n",
      "\n",
      "During handling of the above exception, another exception occurred:\n",
      "\n",
      "Traceback (most recent call last):\n",
      "  File \"C:\\Users\\bmsyg\\PycharmProjects\\pythonProject\\venv\\lib\\site-packages\\IPython\\core\\interactiveshell.py\", line 2105, in showtraceback\n",
      "    stb = self.InteractiveTB.structured_traceback(\n",
      "  File \"C:\\Users\\bmsyg\\PycharmProjects\\pythonProject\\venv\\lib\\site-packages\\IPython\\core\\ultratb.py\", line 1428, in structured_traceback\n",
      "    return FormattedTB.structured_traceback(\n",
      "  File \"C:\\Users\\bmsyg\\PycharmProjects\\pythonProject\\venv\\lib\\site-packages\\IPython\\core\\ultratb.py\", line 1319, in structured_traceback\n",
      "    return VerboseTB.structured_traceback(\n",
      "  File \"C:\\Users\\bmsyg\\PycharmProjects\\pythonProject\\venv\\lib\\site-packages\\IPython\\core\\ultratb.py\", line 1172, in structured_traceback\n",
      "    formatted_exception = self.format_exception_as_a_whole(etype, evalue, etb, number_of_lines_of_context,\n",
      "  File \"C:\\Users\\bmsyg\\PycharmProjects\\pythonProject\\venv\\lib\\site-packages\\IPython\\core\\ultratb.py\", line 1087, in format_exception_as_a_whole\n",
      "    frames.append(self.format_record(record))\n",
      "  File \"C:\\Users\\bmsyg\\PycharmProjects\\pythonProject\\venv\\lib\\site-packages\\IPython\\core\\ultratb.py\", line 969, in format_record\n",
      "    frame_info.lines, Colors, self.has_colors, lvals\n",
      "  File \"C:\\Users\\bmsyg\\PycharmProjects\\pythonProject\\venv\\lib\\site-packages\\IPython\\core\\ultratb.py\", line 792, in lines\n",
      "    return self._sd.lines\n",
      "  File \"C:\\Users\\bmsyg\\PycharmProjects\\pythonProject\\venv\\lib\\site-packages\\stack_data\\utils.py\", line 144, in cached_property_wrapper\n",
      "    value = obj.__dict__[self.func.__name__] = self.func(obj)\n",
      "  File \"C:\\Users\\bmsyg\\PycharmProjects\\pythonProject\\venv\\lib\\site-packages\\stack_data\\core.py\", line 734, in lines\n",
      "    pieces = self.included_pieces\n",
      "  File \"C:\\Users\\bmsyg\\PycharmProjects\\pythonProject\\venv\\lib\\site-packages\\stack_data\\utils.py\", line 144, in cached_property_wrapper\n",
      "    value = obj.__dict__[self.func.__name__] = self.func(obj)\n",
      "  File \"C:\\Users\\bmsyg\\PycharmProjects\\pythonProject\\venv\\lib\\site-packages\\stack_data\\core.py\", line 681, in included_pieces\n",
      "    pos = scope_pieces.index(self.executing_piece)\n",
      "  File \"C:\\Users\\bmsyg\\PycharmProjects\\pythonProject\\venv\\lib\\site-packages\\stack_data\\utils.py\", line 144, in cached_property_wrapper\n",
      "    value = obj.__dict__[self.func.__name__] = self.func(obj)\n",
      "  File \"C:\\Users\\bmsyg\\PycharmProjects\\pythonProject\\venv\\lib\\site-packages\\stack_data\\core.py\", line 660, in executing_piece\n",
      "    return only(\n",
      "  File \"C:\\Users\\bmsyg\\PycharmProjects\\pythonProject\\venv\\lib\\site-packages\\executing\\executing.py\", line 190, in only\n",
      "    raise NotOneValueFound('Expected one value, found 0')\n",
      "executing.executing.NotOneValueFound: Expected one value, found 0\n"
     ]
    }
   ],
   "source": [
    "chrome_options = webdriver.ChromeOptions()\n",
    "chromedriver_autoinstaller.install()                            #크롬 드라이버 자동 설정 : 크롤링시 크롬 드라이버 필요. auto install 사용하여 크롬 버전에 맞는 드라이버 적용\n",
    "\n",
    "driver = webdriver.Chrome()                                     #웹드라이버중 크롬을 선택하여 driver변수 선언 *driver 변수로 모든 동작을함.\n",
    "wait = WebDriverWait(driver, 3)       \n",
    "\n",
    "driver.get('https://www.whiskybase.com/whiskies/distilleries')  #증류소 사이트 접속         \n",
    "html = driver.page_source                                       #해당 홈페이지의 xml태그 수집\n",
    "soup = BeautifulSoup(html, 'html.parser')                       #셀레니움으로 가져온 xml테그를 beautifulsoup으로 받아 html.parser로 형식으로 파싱하여 soup 변수에 저장\n",
    "       \n",
    "driver.close()                                                  #열려있는 홈페이지 닫기"
   ]
  },
  {
   "cell_type": "code",
   "execution_count": 334,
   "id": "f345a1b2-569d-4792-9538-7a76abaf616c",
   "metadata": {},
   "outputs": [],
   "source": [
    "#위사이트에서 수집해야할 정보를 리스트 선언 및 초기화\n",
    "\n",
    "distillery_name_list = []          #증류소명 리스트\n",
    "country_list = []                  #나라명 리스트\n",
    "whiskies_list = []                 #위스키갯수 리스트\n",
    "votes_list = []                    #투표수 리스트\n",
    "rating_list = []                   #투표 평균점수 리스트\n",
    "link_list = []                     #증류소 링크 리스트"
   ]
  },
  {
   "cell_type": "code",
   "execution_count": 335,
   "id": "3162f29a-1ed4-4ee9-8be8-f5b70f8b0984",
   "metadata": {
    "scrolled": true
   },
   "outputs": [],
   "source": [
    "# soup 변수에 저장된 태그정보(클래스명)에 따라 for문을 통해 진행.  2347 수집시간 대락 30-40min\n",
    "\n",
    "for i in range(len(soup.select(\".clickable\"))):\n",
    "    distillery_name_list.append(soup.select(\".clickable\")[i].text)\n",
    "    link_list.append(soup.select(\".clickable\")[i].a['href']) \n",
    "    country_list.append(soup.select(\".data\")[4*(i+1)].text)\n",
    "    whiskies_list.append(soup.select(\".data\")[4*(i+1)+1].text)\n",
    "    votes_list.append(soup.select(\".data\")[4*(i+1)+2].text)\n",
    "    rating_list.append(soup.select(\".data\")[4*(i+1)+3].text)"
   ]
  },
  {
   "cell_type": "code",
   "execution_count": 336,
   "id": "ad1b6b88-ee8e-4309-8175-1dc6246bdc46",
   "metadata": {},
   "outputs": [],
   "source": [
    "#반복문을 통해 수집된 데이터를 데이터 프레임화 시키기 위해 리스트를 각리스트에 맞는 키(컬럼명으로) 매칭후 json형식으로 변환)\n",
    "\n",
    "data = {\n",
    "    'distillery_name' : distillery_name_list,\n",
    "    'country' : country_list,\n",
    "    'whiskies' : whiskies_list,\n",
    "    'votes' : votes_list,\n",
    "    'rating' : rating_list,\n",
    "    'link' : link_list\n",
    "}"
   ]
  },
  {
   "cell_type": "code",
   "execution_count": 337,
   "id": "3d566245-485b-4839-aa28-e068bbbc5abf",
   "metadata": {},
   "outputs": [],
   "source": [
    "#변환된 data변수를 데이터 프레임화\n",
    "\n",
    "distillery_table = pd.DataFrame(data)"
   ]
  },
  {
   "cell_type": "code",
   "execution_count": 340,
   "id": "af0a8a7b-7a66-4da6-909c-170d701b4f46",
   "metadata": {},
   "outputs": [],
   "source": [
    "#데이터 프레임으로 변환된 데이터 csv로 저장\n",
    "\n",
    "distillery_table.to_csv('distillery_table_2023_07_25_VOL2.csv',index=False)"
   ]
  },
  {
   "cell_type": "code",
   "execution_count": null,
   "id": "430e802d-f930-441b-a26a-a41bbd6cf6b7",
   "metadata": {},
   "outputs": [],
   "source": []
  },
  {
   "cell_type": "markdown",
   "id": "65576514-1826-4a76-9813-99ab98d6d454",
   "metadata": {},
   "source": [
    "# Page 2 Scrap"
   ]
  },
  {
   "cell_type": "code",
   "execution_count": 4,
   "id": "d16f1c36-ac62-47f4-a965-a3315c5e11d6",
   "metadata": {},
   "outputs": [],
   "source": [
    "#저장된 csv파일을 불러오기\n",
    "\n",
    "distillery_table = pd.read_csv('distillery_table_2023_07_25_VOL2.csv')"
   ]
  },
  {
   "cell_type": "code",
   "execution_count": 4,
   "id": "666dfec1-8572-44cd-ba64-76258cac24f9",
   "metadata": {},
   "outputs": [],
   "source": [
    "#위스키가 존재하지않는 증류소 제거 \n",
    "\n",
    "distillery_table = distillery_table[distillery_table.whiskies.isna()==False]"
   ]
  },
  {
   "cell_type": "markdown",
   "id": "1ba892e6-37da-4586-bf14-850818734407",
   "metadata": {},
   "source": [
    "### 위스키 정보 링크 수집"
   ]
  },
  {
   "cell_type": "code",
   "execution_count": 151,
   "id": "dea20fc9-4a24-4706-96d5-8c4e6ed281ef",
   "metadata": {},
   "outputs": [],
   "source": [
    "# page 2에서는 위스키 정보수집을 위한 링크만 수집하기에 link 리스트만 선인 및 초기화\n",
    "\n",
    "whikie_link_list = []"
   ]
  },
  {
   "cell_type": "code",
   "execution_count": 6,
   "id": "090abbaf-353f-4cc8-9f32-6618af25d2bf",
   "metadata": {},
   "outputs": [],
   "source": [
    "#위스키 링크 수집 함수 parameter(distillery_table['link'] 증류소 링크), return : x\n",
    "#apply를 사용하여 증류소 링크에 들어가있는 위스키 링크를 수집하는 함수입니다.\n",
    "\n",
    "def scrap_whikies_info(table):\n",
    "    \n",
    "    '''\n",
    "    chrome_options = webdriver.ChromeOptions()              # Page 1 같이 실행시 실행 필요x\n",
    "    chromedriver_autoinstaller.install()\n",
    "    \n",
    "    driver = webdriver.Chrome()\n",
    "    wait = WebDriverWait(driver, 3)\n",
    "    '''\n",
    "    \n",
    "    driver.get(table.link)                                  #증류소 링크 하나씩 드라이버에 넘겨 해당 증류소 사이트 접속\n",
    "    html = driver.page_source                               #해당 페이지에 나와있는 xml태그 html 변수에 저장\n",
    "    soup = BeautifulSoup(html, 'lxml')                      #soup변수에 lxml를 사용하여 진행 -> html.parser가 아닌 lxml를 사용시 대략 10배 속도 향상\n",
    "                                                            #https://docs.kanaries.net/ko/tutorials/Python/python-make-beautiful-soup-faster.ko\n",
    "\n",
    "    \n",
    "    for i in range(len(soup.select(\".photo.buttons\"))):     #위스키 사진기준으로 위스키 갯수를 파악후 반복문으로 링크 수집\n",
    "       '''\n",
    "        try:                                                # 링크만 수집하여 해당 부분 주석처리\n",
    "            whikie_img_list.append(soup.select(\".photo.buttons\")[i].a['href'])      \n",
    "        except:\n",
    "            whikie_img_list.append(None)\n",
    "       '''\n",
    "        \n",
    "        link = soup.select(\".clickable\")                     # clickable이라는 클래명을 가진 태그에서 위스키 링크 추출하여  whikie_link 리스트에 저장\n",
    "        whikie_link_list.append(link[i]['href'])             #홈페이지 종료\n",
    "    driver.close()\n",
    "    "
   ]
  },
  {
   "cell_type": "code",
   "execution_count": 12,
   "id": "1f3c992a-de99-4f42-bf53-32b88690064f",
   "metadata": {
    "collapsed": true,
    "jupyter": {
     "outputs_hidden": true
    },
    "scrolled": true
   },
   "outputs": [
    {
     "name": "stderr",
     "output_type": "stream",
     "text": [
      "100%|██████████████████████████████████████████████████████████████████████████████████████████████████████████████████████████████| 900/900 [7:05:07<00:00, 28.34s/it]\n"
     ]
    },
    {
     "data": {
      "text/plain": [
       "1171    None\n",
       "1172    None\n",
       "1173    None\n",
       "1174    None\n",
       "1175    None\n",
       "        ... \n",
       "2128    None\n",
       "2129    None\n",
       "2130    None\n",
       "2131    None\n",
       "2132    None\n",
       "Length: 900, dtype: object"
      ]
     },
     "execution_count": 12,
     "metadata": {},
     "output_type": "execute_result"
    }
   ],
   "source": [
    "distillery_table.progress_apply(scrap_whikies_info,axis=1)     #apply // progress_apply는 tqdm을 사용하여 얼만큼 진행중인지 모니터링 가능"
   ]
  },
  {
   "cell_type": "code",
   "execution_count": 9,
   "id": "c359400e-8f01-4562-b32c-8371fd4feb01",
   "metadata": {
    "collapsed": true,
    "jupyter": {
     "outputs_hidden": true
    }
   },
   "outputs": [
    {
     "ename": "NameError",
     "evalue": "name 'whikie_link_list' is not defined",
     "output_type": "error",
     "traceback": [
      "\u001b[1;31m---------------------------------------------------------------------------\u001b[0m",
      "\u001b[1;31mNameError\u001b[0m                                 Traceback (most recent call last)",
      "\u001b[1;32m~\\AppData\\Local\\Temp/ipykernel_47132/2340928330.py\u001b[0m in \u001b[0;36m<module>\u001b[1;34m\u001b[0m\n\u001b[0;32m      1\u001b[0m data ={\n\u001b[1;32m----> 2\u001b[1;33m     \u001b[1;34m'whikie_link'\u001b[0m \u001b[1;33m:\u001b[0m \u001b[0mwhikie_link_list\u001b[0m\u001b[1;33m\u001b[0m\u001b[1;33m\u001b[0m\u001b[0m\n\u001b[0m\u001b[0;32m      3\u001b[0m }\n",
      "\u001b[1;31mNameError\u001b[0m: name 'whikie_link_list' is not defined"
     ]
    }
   ],
   "source": [
    "#scrap_whikies_info로 수집된 정보를 데이터 프레임화 시키기 위해 리스트를 각리스트에 맞는 키(컬럼명으로) 매칭후 json형식으로 변환)\n",
    "\n",
    "data ={\n",
    "    'whikie_link' : whikie_link_list\n",
    "}"
   ]
  },
  {
   "cell_type": "code",
   "execution_count": 15,
   "id": "d63974a8-9b02-49f6-b581-b240a4b3819c",
   "metadata": {},
   "outputs": [],
   "source": [
    "#변환된 data변수를 데이터 프레임화\n",
    "\n",
    "whikie_table = pd.DataFrame(data)"
   ]
  },
  {
   "cell_type": "code",
   "execution_count": null,
   "id": "9b56cca8-a952-4a03-9913-d57d4903bb8c",
   "metadata": {},
   "outputs": [],
   "source": [
    "#데이터 프레임으로 변환된 데이터 csv로 저장\n",
    "\n",
    "whikie_table.to_csv('whikie_table_2023_07_25_VOL2.csv',index=False)"
   ]
  },
  {
   "cell_type": "markdown",
   "id": "f3f508b4-027d-45f9-a724-bf28dce6b90a",
   "metadata": {},
   "source": [
    "# Page 3 Scrap"
   ]
  },
  {
   "cell_type": "code",
   "execution_count": 135,
   "id": "9fa101a0-d6a0-480e-9c43-36cac90cdc32",
   "metadata": {},
   "outputs": [],
   "source": [
    "\n",
    "whikie_table = pd.read_csv('whikie_table_1100_2000_2023_07_25_vol1.csv')"
   ]
  },
  {
   "cell_type": "code",
   "execution_count": 136,
   "id": "b6bde60b-6e11-47e6-965b-d3da56d95acf",
   "metadata": {},
   "outputs": [],
   "source": [
    "#위스키 정보 수집"
   ]
  },
  {
   "cell_type": "code",
   "execution_count": 137,
   "id": "fbeadf04-821d-468a-abf7-9c12615b7de2",
   "metadata": {},
   "outputs": [],
   "source": [
    "whiskey_name_list = []\n",
    "whiskey_base_id_list = []\n",
    "category_list = []\n",
    "distillery_list = []\n",
    "bottler_list = []\n",
    "bottled_list = []\n",
    "strength_list = []\n",
    "size_list = []\n",
    "label_list = []\n",
    "market_list = []\n",
    "added_on_list = []\n",
    "calculated_age_list = []\n",
    "casknumber_list = []\n",
    "barcode_list = []\n",
    "casktype_list = []\n",
    "bottleing_serie_list = []\n",
    "number_of_bottles_list = []\n",
    "vintage_list = []\n",
    "bottled_for_list = []\n",
    "over_rating_list = []\n",
    "votes_list = []"
   ]
  },
  {
   "cell_type": "code",
   "execution_count": 138,
   "id": "92f48f74-570d-4760-8cc9-2a5c46bce44a",
   "metadata": {},
   "outputs": [],
   "source": [
    "searching_col_dist = {'Whiskybase ID' : whiskey_base_id_list,\n",
    "'Category' : category_list,\n",
    "'Distillery' : distillery_list,\n",
    "'Bottler' : bottler_list,\n",
    "'Bottled' : bottled_list,\n",
    "'Strength' : strength_list,\n",
    "'Size' : size_list,\n",
    "'Label' : label_list,\n",
    "'Market' : market_list,\n",
    "'Added on' : added_on_list,\n",
    "'Calculated age' : calculated_age_list,\n",
    "'Casknumber' : casknumber_list,\n",
    "'Barcode' : barcode_list,\n",
    "'Casktype' :casktype_list,\n",
    "'Bottling serie' : bottleing_serie_list,\n",
    "'Number of bottles' : number_of_bottles_list,\n",
    "'Vintage' : vintage_list,\n",
    "'Bottled for' : bottled_for_list,\n",
    "'Overall rating' : over_rating_list,\n",
    "'votes' : votes_list         }"
   ]
  },
  {
   "cell_type": "code",
   "execution_count": null,
   "id": "3e3b50d4-de7c-47fe-a8d4-963630fb7f91",
   "metadata": {},
   "outputs": [],
   "source": [
    "def scrap_whikies_detail_info(table):\n",
    "    chrome_options = webdriver.ChromeOptions()\n",
    "    chromedriver_autoinstaller.install()\n",
    "\n",
    "    driver = webdriver.Chrome()\n",
    "    wait = WebDriverWait(driver, 3)\n",
    "    \n",
    "    driver.get(table.whikie_link)\n",
    "    html = driver.page_source\n",
    "    soup = BeautifulSoup(html, 'lxml')\n",
    "\n",
    "    try:\n",
    "        whiskey_name_list.append(soup.select(('.name header h1')[0].text.strip()))\n",
    "    except:\n",
    "        print(soup.select(('.name header h1')[0]))\n",
    "    dt_list = soup.select('dt')\n",
    "    dd_list = soup.select('dd')\n",
    "    \n",
    "    for i in range(len(dt_list)):\n",
    "        searching_col_dist[dt_list[i].text.strip()].append(dd_list[i])\n",
    "    driver.close()"
   ]
  },
  {
   "cell_type": "code",
   "execution_count": null,
   "id": "ba759129-f75b-49d8-a751-da26a78b574d",
   "metadata": {},
   "outputs": [],
   "source": [
    "whikie_table[:10].progress_apply(scrap_whikies_detail_info,axis=1)"
   ]
  },
  {
   "cell_type": "code",
   "execution_count": null,
   "id": "dafcf5e9-edd0-4822-abca-6aacfdbaa70a",
   "metadata": {},
   "outputs": [],
   "source": [
    "soup[0].select('.name header h1')[0].text  #replace"
   ]
  },
  {
   "cell_type": "code",
   "execution_count": 126,
   "id": "07259086-6a4c-4bb4-9c3e-b69e243bb169",
   "metadata": {},
   "outputs": [],
   "source": [
    "searching_col_dist[soup[0].select('dt')[0].text.strip()].append('a')"
   ]
  },
  {
   "cell_type": "code",
   "execution_count": 116,
   "id": "a02a4631-f119-4bd5-9e4b-a5a18dafa13c",
   "metadata": {},
   "outputs": [
    {
     "data": {
      "text/plain": [
       "'https://www.whiskybase.com/whiskies/whisky/177914/hierber-whisky'"
      ]
     },
     "execution_count": 116,
     "metadata": {},
     "output_type": "execute_result"
    }
   ],
   "source": [
    "whikie_table.whikie_link[0]"
   ]
  },
  {
   "cell_type": "code",
   "execution_count": 127,
   "id": "a1dd828e-2eb0-4553-a352-7dfb8a1c763e",
   "metadata": {},
   "outputs": [
    {
     "data": {
      "text/plain": [
       "['a', 'a']"
      ]
     },
     "execution_count": 127,
     "metadata": {},
     "output_type": "execute_result"
    }
   ],
   "source": [
    "over_rating_list"
   ]
  },
  {
   "cell_type": "code",
   "execution_count": 125,
   "id": "289640ca-f36c-45f6-ba09-5e6e94631232",
   "metadata": {},
   "outputs": [
    {
     "data": {
      "text/plain": [
       "{'Whiskybase ID': [],\n",
       " 'Category': [],\n",
       " 'Distillery': [],\n",
       " 'Bottler': [],\n",
       " 'Bottled': [],\n",
       " 'Strength': [],\n",
       " 'Size': [],\n",
       " 'Label': [],\n",
       " 'Market': [],\n",
       " 'Added on': [],\n",
       " 'Calculated age': [],\n",
       " 'Casknumber': [],\n",
       " 'Barcode': [],\n",
       " 'Casktype': [],\n",
       " 'Bottling serie': [],\n",
       " 'Number of bottles': [],\n",
       " 'Vintage': [],\n",
       " 'Bottled for': [],\n",
       " 'Overall rating': ['a'],\n",
       " 'votes': []}"
      ]
     },
     "execution_count": 125,
     "metadata": {},
     "output_type": "execute_result"
    }
   ],
   "source": [
    "searching_col_dist"
   ]
  },
  {
   "cell_type": "code",
   "execution_count": null,
   "id": "0dba26a1-e944-4f7a-abd3-206417d9c33a",
   "metadata": {},
   "outputs": [],
   "source": []
  }
 ],
 "metadata": {
  "kernelspec": {
   "display_name": "Python 3 (ipykernel)",
   "language": "python",
   "name": "python3"
  },
  "language_info": {
   "codemirror_mode": {
    "name": "ipython",
    "version": 3
   },
   "file_extension": ".py",
   "mimetype": "text/x-python",
   "name": "python",
   "nbconvert_exporter": "python",
   "pygments_lexer": "ipython3",
   "version": "3.9.6"
  }
 },
 "nbformat": 4,
 "nbformat_minor": 5
}
