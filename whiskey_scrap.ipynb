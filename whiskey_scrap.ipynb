{
 "cells": [
  {
   "cell_type": "markdown",
   "id": "fdd279cf-142c-410c-b01d-1e624197ab02",
   "metadata": {},
   "source": [
    "# import pacakage setting"
   ]
  },
  {
   "cell_type": "code",
   "execution_count": 153,
   "id": "d602e347-cf96-41ad-b736-5adcdc4f4a72",
   "metadata": {},
   "outputs": [],
   "source": [
    "from selenium import webdriver\n",
    "from selenium.webdriver.support.ui import WebDriverWait\n",
    "import pandas as pd\n",
    "from bs4 import BeautifulSoup\n",
    "from tqdm import tqdm\n",
    "import chromedriver_autoinstaller\n",
    "tqdm.pandas()"
   ]
  },
  {
   "cell_type": "markdown",
   "id": "1589dbeb-742c-4c29-b54b-2440d6f84c9b",
   "metadata": {},
   "source": [
    "# Page 1 scrap"
   ]
  },
  {
   "cell_type": "markdown",
   "id": "5bf667d9-c3e9-40ef-8279-a03e89e4f023",
   "metadata": {},
   "source": [
    "### 위스키 증류소 수집 코드"
   ]
  },
  {
   "cell_type": "code",
   "execution_count": 154,
   "id": "55c03625-3e4c-4c59-b0ae-60b02066274a",
   "metadata": {
    "scrolled": true
   },
   "outputs": [
    {
     "name": "stderr",
     "output_type": "stream",
     "text": [
      "Exception ignored in: <function Service.__del__ at 0x0000021035CBBDC0>\n",
      "Traceback (most recent call last):\n",
      "  File \"c:\\users\\bmsyg\\pycharmprojects\\pythonproject\\venv\\lib\\site-packages\\selenium\\webdriver\\common\\service.py\", line 176, in __del__\n",
      "    self.stop()\n",
      "  File \"c:\\users\\bmsyg\\pycharmprojects\\pythonproject\\venv\\lib\\site-packages\\selenium\\webdriver\\common\\service.py\", line 151, in stop\n",
      "    self.send_remote_shutdown_command()\n",
      "  File \"c:\\users\\bmsyg\\pycharmprojects\\pythonproject\\venv\\lib\\site-packages\\selenium\\webdriver\\common\\service.py\", line 132, in send_remote_shutdown_command\n",
      "    if not self.is_connectable():\n",
      "  File \"c:\\users\\bmsyg\\pycharmprojects\\pythonproject\\venv\\lib\\site-packages\\selenium\\webdriver\\common\\service.py\", line 115, in is_connectable\n",
      "    return utils.is_connectable(self.port)\n",
      "  File \"c:\\users\\bmsyg\\pycharmprojects\\pythonproject\\venv\\lib\\site-packages\\selenium\\webdriver\\common\\utils.py\", line 106, in is_connectable\n",
      "    socket_ = socket.create_connection((host, port), 1)\n",
      "  File \"C:\\Users\\bmsyg\\AppData\\Local\\Programs\\Python\\Python39\\lib\\socket.py\", line 831, in create_connection\n",
      "    sock.connect(sa)\n",
      "KeyboardInterrupt: \n"
     ]
    },
    {
     "ename": "KeyboardInterrupt",
     "evalue": "",
     "output_type": "error",
     "traceback": [
      "\u001b[1;31m---------------------------------------------------------------------------\u001b[0m",
      "\u001b[1;31mKeyboardInterrupt\u001b[0m                         Traceback (most recent call last)",
      "\u001b[1;32m~\\AppData\\Local\\Temp/ipykernel_47132/841466412.py\u001b[0m in \u001b[0;36m<module>\u001b[1;34m\u001b[0m\n\u001b[0;32m      7\u001b[0m \u001b[0mdriver\u001b[0m\u001b[1;33m.\u001b[0m\u001b[0mget\u001b[0m\u001b[1;33m(\u001b[0m\u001b[1;34m'https://www.whiskybase.com/whiskies/distilleries'\u001b[0m\u001b[1;33m)\u001b[0m  \u001b[1;31m#증류소 사이트 접속\u001b[0m\u001b[1;33m\u001b[0m\u001b[1;33m\u001b[0m\u001b[0m\n\u001b[0;32m      8\u001b[0m \u001b[0mhtml\u001b[0m \u001b[1;33m=\u001b[0m \u001b[0mdriver\u001b[0m\u001b[1;33m.\u001b[0m\u001b[0mpage_source\u001b[0m                                       \u001b[1;31m#해당 홈페이지의 xml태그 수집\u001b[0m\u001b[1;33m\u001b[0m\u001b[1;33m\u001b[0m\u001b[0m\n\u001b[1;32m----> 9\u001b[1;33m \u001b[0msoup\u001b[0m \u001b[1;33m=\u001b[0m \u001b[0mBeautifulSoup\u001b[0m\u001b[1;33m(\u001b[0m\u001b[0mhtml\u001b[0m\u001b[1;33m,\u001b[0m \u001b[1;34m'html.parser'\u001b[0m\u001b[1;33m)\u001b[0m                       \u001b[1;31m#셀레니움으로 가져온 xml테그를 beautifulsoup으로 받아 html.parser로 형식으로 파싱하여 soup 변수에 저장\u001b[0m\u001b[1;33m\u001b[0m\u001b[1;33m\u001b[0m\u001b[0m\n\u001b[0m\u001b[0;32m     10\u001b[0m \u001b[1;33m\u001b[0m\u001b[0m\n\u001b[0;32m     11\u001b[0m \u001b[0mdriver\u001b[0m\u001b[1;33m.\u001b[0m\u001b[0mclose\u001b[0m\u001b[1;33m(\u001b[0m\u001b[1;33m)\u001b[0m                                                  \u001b[1;31m#열려있는 홈페이지 닫기\u001b[0m\u001b[1;33m\u001b[0m\u001b[1;33m\u001b[0m\u001b[0m\n",
      "\u001b[1;32mc:\\users\\bmsyg\\pycharmprojects\\pythonproject\\venv\\lib\\site-packages\\bs4\\__init__.py\u001b[0m in \u001b[0;36m__init__\u001b[1;34m(self, markup, features, builder, parse_only, from_encoding, exclude_encodings, element_classes, **kwargs)\u001b[0m\n\u001b[0;32m    346\u001b[0m             \u001b[0mself\u001b[0m\u001b[1;33m.\u001b[0m\u001b[0mreset\u001b[0m\u001b[1;33m(\u001b[0m\u001b[1;33m)\u001b[0m\u001b[1;33m\u001b[0m\u001b[1;33m\u001b[0m\u001b[0m\n\u001b[0;32m    347\u001b[0m             \u001b[1;32mtry\u001b[0m\u001b[1;33m:\u001b[0m\u001b[1;33m\u001b[0m\u001b[1;33m\u001b[0m\u001b[0m\n\u001b[1;32m--> 348\u001b[1;33m                 \u001b[0mself\u001b[0m\u001b[1;33m.\u001b[0m\u001b[0m_feed\u001b[0m\u001b[1;33m(\u001b[0m\u001b[1;33m)\u001b[0m\u001b[1;33m\u001b[0m\u001b[1;33m\u001b[0m\u001b[0m\n\u001b[0m\u001b[0;32m    349\u001b[0m                 \u001b[0msuccess\u001b[0m \u001b[1;33m=\u001b[0m \u001b[1;32mTrue\u001b[0m\u001b[1;33m\u001b[0m\u001b[1;33m\u001b[0m\u001b[0m\n\u001b[0;32m    350\u001b[0m                 \u001b[1;32mbreak\u001b[0m\u001b[1;33m\u001b[0m\u001b[1;33m\u001b[0m\u001b[0m\n",
      "\u001b[1;32mc:\\users\\bmsyg\\pycharmprojects\\pythonproject\\venv\\lib\\site-packages\\bs4\\__init__.py\u001b[0m in \u001b[0;36m_feed\u001b[1;34m(self)\u001b[0m\n\u001b[0;32m    432\u001b[0m         \u001b[0mself\u001b[0m\u001b[1;33m.\u001b[0m\u001b[0mbuilder\u001b[0m\u001b[1;33m.\u001b[0m\u001b[0mreset\u001b[0m\u001b[1;33m(\u001b[0m\u001b[1;33m)\u001b[0m\u001b[1;33m\u001b[0m\u001b[1;33m\u001b[0m\u001b[0m\n\u001b[0;32m    433\u001b[0m \u001b[1;33m\u001b[0m\u001b[0m\n\u001b[1;32m--> 434\u001b[1;33m         \u001b[0mself\u001b[0m\u001b[1;33m.\u001b[0m\u001b[0mbuilder\u001b[0m\u001b[1;33m.\u001b[0m\u001b[0mfeed\u001b[0m\u001b[1;33m(\u001b[0m\u001b[0mself\u001b[0m\u001b[1;33m.\u001b[0m\u001b[0mmarkup\u001b[0m\u001b[1;33m)\u001b[0m\u001b[1;33m\u001b[0m\u001b[1;33m\u001b[0m\u001b[0m\n\u001b[0m\u001b[0;32m    435\u001b[0m         \u001b[1;31m# Close out any unfinished strings and close all the open tags.\u001b[0m\u001b[1;33m\u001b[0m\u001b[1;33m\u001b[0m\u001b[1;33m\u001b[0m\u001b[0m\n\u001b[0;32m    436\u001b[0m         \u001b[0mself\u001b[0m\u001b[1;33m.\u001b[0m\u001b[0mendData\u001b[0m\u001b[1;33m(\u001b[0m\u001b[1;33m)\u001b[0m\u001b[1;33m\u001b[0m\u001b[1;33m\u001b[0m\u001b[0m\n",
      "\u001b[1;32mc:\\users\\bmsyg\\pycharmprojects\\pythonproject\\venv\\lib\\site-packages\\bs4\\builder\\_htmlparser.py\u001b[0m in \u001b[0;36mfeed\u001b[1;34m(self, markup)\u001b[0m\n\u001b[0;32m    375\u001b[0m         \u001b[0mparser\u001b[0m\u001b[1;33m.\u001b[0m\u001b[0msoup\u001b[0m \u001b[1;33m=\u001b[0m \u001b[0mself\u001b[0m\u001b[1;33m.\u001b[0m\u001b[0msoup\u001b[0m\u001b[1;33m\u001b[0m\u001b[1;33m\u001b[0m\u001b[0m\n\u001b[0;32m    376\u001b[0m         \u001b[1;32mtry\u001b[0m\u001b[1;33m:\u001b[0m\u001b[1;33m\u001b[0m\u001b[1;33m\u001b[0m\u001b[0m\n\u001b[1;32m--> 377\u001b[1;33m             \u001b[0mparser\u001b[0m\u001b[1;33m.\u001b[0m\u001b[0mfeed\u001b[0m\u001b[1;33m(\u001b[0m\u001b[0mmarkup\u001b[0m\u001b[1;33m)\u001b[0m\u001b[1;33m\u001b[0m\u001b[1;33m\u001b[0m\u001b[0m\n\u001b[0m\u001b[0;32m    378\u001b[0m             \u001b[0mparser\u001b[0m\u001b[1;33m.\u001b[0m\u001b[0mclose\u001b[0m\u001b[1;33m(\u001b[0m\u001b[1;33m)\u001b[0m\u001b[1;33m\u001b[0m\u001b[1;33m\u001b[0m\u001b[0m\n\u001b[0;32m    379\u001b[0m         \u001b[1;32mexcept\u001b[0m \u001b[0mHTMLParseError\u001b[0m \u001b[1;32mas\u001b[0m \u001b[0me\u001b[0m\u001b[1;33m:\u001b[0m\u001b[1;33m\u001b[0m\u001b[1;33m\u001b[0m\u001b[0m\n",
      "\u001b[1;32m~\\AppData\\Local\\Programs\\Python\\Python39\\lib\\html\\parser.py\u001b[0m in \u001b[0;36mfeed\u001b[1;34m(self, data)\u001b[0m\n\u001b[0;32m    108\u001b[0m         \"\"\"\n\u001b[0;32m    109\u001b[0m         \u001b[0mself\u001b[0m\u001b[1;33m.\u001b[0m\u001b[0mrawdata\u001b[0m \u001b[1;33m=\u001b[0m \u001b[0mself\u001b[0m\u001b[1;33m.\u001b[0m\u001b[0mrawdata\u001b[0m \u001b[1;33m+\u001b[0m \u001b[0mdata\u001b[0m\u001b[1;33m\u001b[0m\u001b[1;33m\u001b[0m\u001b[0m\n\u001b[1;32m--> 110\u001b[1;33m         \u001b[0mself\u001b[0m\u001b[1;33m.\u001b[0m\u001b[0mgoahead\u001b[0m\u001b[1;33m(\u001b[0m\u001b[1;36m0\u001b[0m\u001b[1;33m)\u001b[0m\u001b[1;33m\u001b[0m\u001b[1;33m\u001b[0m\u001b[0m\n\u001b[0m\u001b[0;32m    111\u001b[0m \u001b[1;33m\u001b[0m\u001b[0m\n\u001b[0;32m    112\u001b[0m     \u001b[1;32mdef\u001b[0m \u001b[0mclose\u001b[0m\u001b[1;33m(\u001b[0m\u001b[0mself\u001b[0m\u001b[1;33m)\u001b[0m\u001b[1;33m:\u001b[0m\u001b[1;33m\u001b[0m\u001b[1;33m\u001b[0m\u001b[0m\n",
      "\u001b[1;32m~\\AppData\\Local\\Programs\\Python\\Python39\\lib\\html\\parser.py\u001b[0m in \u001b[0;36mgoahead\u001b[1;34m(self, end)\u001b[0m\n\u001b[0;32m    168\u001b[0m             \u001b[1;32mif\u001b[0m \u001b[0mstartswith\u001b[0m\u001b[1;33m(\u001b[0m\u001b[1;34m'<'\u001b[0m\u001b[1;33m,\u001b[0m \u001b[0mi\u001b[0m\u001b[1;33m)\u001b[0m\u001b[1;33m:\u001b[0m\u001b[1;33m\u001b[0m\u001b[1;33m\u001b[0m\u001b[0m\n\u001b[0;32m    169\u001b[0m                 \u001b[1;32mif\u001b[0m \u001b[0mstarttagopen\u001b[0m\u001b[1;33m.\u001b[0m\u001b[0mmatch\u001b[0m\u001b[1;33m(\u001b[0m\u001b[0mrawdata\u001b[0m\u001b[1;33m,\u001b[0m \u001b[0mi\u001b[0m\u001b[1;33m)\u001b[0m\u001b[1;33m:\u001b[0m \u001b[1;31m# < + letter\u001b[0m\u001b[1;33m\u001b[0m\u001b[1;33m\u001b[0m\u001b[0m\n\u001b[1;32m--> 170\u001b[1;33m                     \u001b[0mk\u001b[0m \u001b[1;33m=\u001b[0m \u001b[0mself\u001b[0m\u001b[1;33m.\u001b[0m\u001b[0mparse_starttag\u001b[0m\u001b[1;33m(\u001b[0m\u001b[0mi\u001b[0m\u001b[1;33m)\u001b[0m\u001b[1;33m\u001b[0m\u001b[1;33m\u001b[0m\u001b[0m\n\u001b[0m\u001b[0;32m    171\u001b[0m                 \u001b[1;32melif\u001b[0m \u001b[0mstartswith\u001b[0m\u001b[1;33m(\u001b[0m\u001b[1;34m\"</\"\u001b[0m\u001b[1;33m,\u001b[0m \u001b[0mi\u001b[0m\u001b[1;33m)\u001b[0m\u001b[1;33m:\u001b[0m\u001b[1;33m\u001b[0m\u001b[1;33m\u001b[0m\u001b[0m\n\u001b[0;32m    172\u001b[0m                     \u001b[0mk\u001b[0m \u001b[1;33m=\u001b[0m \u001b[0mself\u001b[0m\u001b[1;33m.\u001b[0m\u001b[0mparse_endtag\u001b[0m\u001b[1;33m(\u001b[0m\u001b[0mi\u001b[0m\u001b[1;33m)\u001b[0m\u001b[1;33m\u001b[0m\u001b[1;33m\u001b[0m\u001b[0m\n",
      "\u001b[1;32m~\\AppData\\Local\\Programs\\Python\\Python39\\lib\\html\\parser.py\u001b[0m in \u001b[0;36mparse_starttag\u001b[1;34m(self, i)\u001b[0m\n\u001b[0;32m    342\u001b[0m             \u001b[0mself\u001b[0m\u001b[1;33m.\u001b[0m\u001b[0mhandle_startendtag\u001b[0m\u001b[1;33m(\u001b[0m\u001b[0mtag\u001b[0m\u001b[1;33m,\u001b[0m \u001b[0mattrs\u001b[0m\u001b[1;33m)\u001b[0m\u001b[1;33m\u001b[0m\u001b[1;33m\u001b[0m\u001b[0m\n\u001b[0;32m    343\u001b[0m         \u001b[1;32melse\u001b[0m\u001b[1;33m:\u001b[0m\u001b[1;33m\u001b[0m\u001b[1;33m\u001b[0m\u001b[0m\n\u001b[1;32m--> 344\u001b[1;33m             \u001b[0mself\u001b[0m\u001b[1;33m.\u001b[0m\u001b[0mhandle_starttag\u001b[0m\u001b[1;33m(\u001b[0m\u001b[0mtag\u001b[0m\u001b[1;33m,\u001b[0m \u001b[0mattrs\u001b[0m\u001b[1;33m)\u001b[0m\u001b[1;33m\u001b[0m\u001b[1;33m\u001b[0m\u001b[0m\n\u001b[0m\u001b[0;32m    345\u001b[0m             \u001b[1;32mif\u001b[0m \u001b[0mtag\u001b[0m \u001b[1;32min\u001b[0m \u001b[0mself\u001b[0m\u001b[1;33m.\u001b[0m\u001b[0mCDATA_CONTENT_ELEMENTS\u001b[0m\u001b[1;33m:\u001b[0m\u001b[1;33m\u001b[0m\u001b[1;33m\u001b[0m\u001b[0m\n\u001b[0;32m    346\u001b[0m                 \u001b[0mself\u001b[0m\u001b[1;33m.\u001b[0m\u001b[0mset_cdata_mode\u001b[0m\u001b[1;33m(\u001b[0m\u001b[0mtag\u001b[0m\u001b[1;33m)\u001b[0m\u001b[1;33m\u001b[0m\u001b[1;33m\u001b[0m\u001b[0m\n",
      "\u001b[1;32mc:\\users\\bmsyg\\pycharmprojects\\pythonproject\\venv\\lib\\site-packages\\bs4\\builder\\_htmlparser.py\u001b[0m in \u001b[0;36mhandle_starttag\u001b[1;34m(self, name, attrs, handle_empty_element)\u001b[0m\n\u001b[0;32m    149\u001b[0m         \u001b[1;31m#print(\"START\", name)\u001b[0m\u001b[1;33m\u001b[0m\u001b[1;33m\u001b[0m\u001b[1;33m\u001b[0m\u001b[0m\n\u001b[0;32m    150\u001b[0m         \u001b[0msourceline\u001b[0m\u001b[1;33m,\u001b[0m \u001b[0msourcepos\u001b[0m \u001b[1;33m=\u001b[0m \u001b[0mself\u001b[0m\u001b[1;33m.\u001b[0m\u001b[0mgetpos\u001b[0m\u001b[1;33m(\u001b[0m\u001b[1;33m)\u001b[0m\u001b[1;33m\u001b[0m\u001b[1;33m\u001b[0m\u001b[0m\n\u001b[1;32m--> 151\u001b[1;33m         tag = self.soup.handle_starttag(\n\u001b[0m\u001b[0;32m    152\u001b[0m             \u001b[0mname\u001b[0m\u001b[1;33m,\u001b[0m \u001b[1;32mNone\u001b[0m\u001b[1;33m,\u001b[0m \u001b[1;32mNone\u001b[0m\u001b[1;33m,\u001b[0m \u001b[0mattr_dict\u001b[0m\u001b[1;33m,\u001b[0m \u001b[0msourceline\u001b[0m\u001b[1;33m=\u001b[0m\u001b[0msourceline\u001b[0m\u001b[1;33m,\u001b[0m\u001b[1;33m\u001b[0m\u001b[1;33m\u001b[0m\u001b[0m\n\u001b[0;32m    153\u001b[0m             \u001b[0msourcepos\u001b[0m\u001b[1;33m=\u001b[0m\u001b[0msourcepos\u001b[0m\u001b[1;33m\u001b[0m\u001b[1;33m\u001b[0m\u001b[0m\n",
      "\u001b[1;32mc:\\users\\bmsyg\\pycharmprojects\\pythonproject\\venv\\lib\\site-packages\\bs4\\__init__.py\u001b[0m in \u001b[0;36mhandle_starttag\u001b[1;34m(self, name, namespace, nsprefix, attrs, sourceline, sourcepos)\u001b[0m\n\u001b[0;32m    711\u001b[0m             \u001b[0mself\u001b[0m\u001b[1;33m.\u001b[0m\u001b[0m_most_recent_element\u001b[0m\u001b[1;33m.\u001b[0m\u001b[0mnext_element\u001b[0m \u001b[1;33m=\u001b[0m \u001b[0mtag\u001b[0m\u001b[1;33m\u001b[0m\u001b[1;33m\u001b[0m\u001b[0m\n\u001b[0;32m    712\u001b[0m         \u001b[0mself\u001b[0m\u001b[1;33m.\u001b[0m\u001b[0m_most_recent_element\u001b[0m \u001b[1;33m=\u001b[0m \u001b[0mtag\u001b[0m\u001b[1;33m\u001b[0m\u001b[1;33m\u001b[0m\u001b[0m\n\u001b[1;32m--> 713\u001b[1;33m         \u001b[0mself\u001b[0m\u001b[1;33m.\u001b[0m\u001b[0mpushTag\u001b[0m\u001b[1;33m(\u001b[0m\u001b[0mtag\u001b[0m\u001b[1;33m)\u001b[0m\u001b[1;33m\u001b[0m\u001b[1;33m\u001b[0m\u001b[0m\n\u001b[0m\u001b[0;32m    714\u001b[0m         \u001b[1;32mreturn\u001b[0m \u001b[0mtag\u001b[0m\u001b[1;33m\u001b[0m\u001b[1;33m\u001b[0m\u001b[0m\n\u001b[0;32m    715\u001b[0m \u001b[1;33m\u001b[0m\u001b[0m\n",
      "\u001b[1;32mc:\\users\\bmsyg\\pycharmprojects\\pythonproject\\venv\\lib\\site-packages\\bs4\\__init__.py\u001b[0m in \u001b[0;36mpushTag\u001b[1;34m(self, tag)\u001b[0m\n\u001b[0;32m    534\u001b[0m         \u001b[1;32mif\u001b[0m \u001b[0mtag\u001b[0m\u001b[1;33m.\u001b[0m\u001b[0mname\u001b[0m \u001b[1;33m!=\u001b[0m \u001b[0mself\u001b[0m\u001b[1;33m.\u001b[0m\u001b[0mROOT_TAG_NAME\u001b[0m\u001b[1;33m:\u001b[0m\u001b[1;33m\u001b[0m\u001b[1;33m\u001b[0m\u001b[0m\n\u001b[0;32m    535\u001b[0m             \u001b[0mself\u001b[0m\u001b[1;33m.\u001b[0m\u001b[0mopen_tag_counter\u001b[0m\u001b[1;33m[\u001b[0m\u001b[0mtag\u001b[0m\u001b[1;33m.\u001b[0m\u001b[0mname\u001b[0m\u001b[1;33m]\u001b[0m \u001b[1;33m+=\u001b[0m \u001b[1;36m1\u001b[0m\u001b[1;33m\u001b[0m\u001b[1;33m\u001b[0m\u001b[0m\n\u001b[1;32m--> 536\u001b[1;33m         \u001b[1;32mif\u001b[0m \u001b[0mtag\u001b[0m\u001b[1;33m.\u001b[0m\u001b[0mname\u001b[0m \u001b[1;32min\u001b[0m \u001b[0mself\u001b[0m\u001b[1;33m.\u001b[0m\u001b[0mbuilder\u001b[0m\u001b[1;33m.\u001b[0m\u001b[0mpreserve_whitespace_tags\u001b[0m\u001b[1;33m:\u001b[0m\u001b[1;33m\u001b[0m\u001b[1;33m\u001b[0m\u001b[0m\n\u001b[0m\u001b[0;32m    537\u001b[0m             \u001b[0mself\u001b[0m\u001b[1;33m.\u001b[0m\u001b[0mpreserve_whitespace_tag_stack\u001b[0m\u001b[1;33m.\u001b[0m\u001b[0mappend\u001b[0m\u001b[1;33m(\u001b[0m\u001b[0mtag\u001b[0m\u001b[1;33m)\u001b[0m\u001b[1;33m\u001b[0m\u001b[1;33m\u001b[0m\u001b[0m\n\u001b[0;32m    538\u001b[0m         \u001b[1;32mif\u001b[0m \u001b[0mtag\u001b[0m\u001b[1;33m.\u001b[0m\u001b[0mname\u001b[0m \u001b[1;32min\u001b[0m \u001b[0mself\u001b[0m\u001b[1;33m.\u001b[0m\u001b[0mbuilder\u001b[0m\u001b[1;33m.\u001b[0m\u001b[0mstring_containers\u001b[0m\u001b[1;33m:\u001b[0m\u001b[1;33m\u001b[0m\u001b[1;33m\u001b[0m\u001b[0m\n",
      "\u001b[1;31mKeyboardInterrupt\u001b[0m: "
     ]
    }
   ],
   "source": [
    "chrome_options = webdriver.ChromeOptions()\n",
    "chromedriver_autoinstaller.install()                            #크롬 드라이버 자동 설정 : 크롤링시 크롬 드라이버 필요. auto install 사용하여 크롬 버전에 맞는 드라이버 적용\n",
    "\n",
    "driver = webdriver.Chrome()                                     #웹드라이버중 크롬을 선택하여 driver변수 선언 *driver 변수로 모든 동작을함.\n",
    "wait = WebDriverWait(driver, 3)       \n",
    "\n",
    "driver.get('https://www.whiskybase.com/whiskies/distilleries')  #증류소 사이트 접속         \n",
    "html = driver.page_source                                       #해당 홈페이지의 xml태그 수집\n",
    "soup = BeautifulSoup(html, 'html.parser')                       #셀레니움으로 가져온 xml테그를 beautifulsoup으로 받아 html.parser로 형식으로 파싱하여 soup 변수에 저장\n",
    "       \n",
    "driver.close()                                                  #열려있는 홈페이지 닫기"
   ]
  },
  {
   "cell_type": "code",
   "execution_count": null,
   "id": "f345a1b2-569d-4792-9538-7a76abaf616c",
   "metadata": {},
   "outputs": [],
   "source": [
    "#위사이트에서 수집해야할 정보를 리스트 선언 및 초기화\n",
    "\n",
    "distillery_name_list = []          #증류소명 리스트\n",
    "country_list = []                  #나라명 리스트\n",
    "whiskies_list = []                 #위스키갯수 리스트\n",
    "votes_list = []                    #투표수 리스트\n",
    "rating_list = []                   #투표 평균점수 리스트\n",
    "link_list = []                     #증류소 링크 리스트"
   ]
  },
  {
   "cell_type": "code",
   "execution_count": null,
   "id": "3162f29a-1ed4-4ee9-8be8-f5b70f8b0984",
   "metadata": {
    "scrolled": true
   },
   "outputs": [],
   "source": [
    "# soup 변수에 저장된 태그정보(클래스명)에 따라 for문을 통해 진행.  2347 수집시간 대락 30-40min\n",
    "\n",
    "for i in range(len(soup.select(\".clickable\"))):\n",
    "    distillery_name_list.append(soup.select(\".clickable\")[i].text)\n",
    "    link_list.append(soup.select(\".clickable\")[i].a['href']) \n",
    "    country_list.append(soup.select(\".data\")[4*(i+1)].text)\n",
    "    whiskies_list.append(soup.select(\".data\")[4*(i+1)+1].text)\n",
    "    votes_list.append(soup.select(\".data\")[4*(i+1)+2].text)\n",
    "    rating_list.append(soup.select(\".data\")[4*(i+1)+3].text)"
   ]
  },
  {
   "cell_type": "code",
   "execution_count": null,
   "id": "ad1b6b88-ee8e-4309-8175-1dc6246bdc46",
   "metadata": {},
   "outputs": [],
   "source": [
    "#반복문을 통해 수집된 데이터를 데이터 프레임화 시키기 위해 리스트를 각리스트에 맞는 키(컬럼명으로) 매칭후 json형식으로 변환)\n",
    "\n",
    "data = {\n",
    "    'distillery_name' : distillery_name_list,\n",
    "    'country' : country_list,\n",
    "    'whiskies' : whiskies_list,\n",
    "    'votes' : votes_list,\n",
    "    'rating' : rating_list,\n",
    "    'link' : link_list\n",
    "}"
   ]
  },
  {
   "cell_type": "code",
   "execution_count": null,
   "id": "3d566245-485b-4839-aa28-e068bbbc5abf",
   "metadata": {},
   "outputs": [],
   "source": [
    "#변환된 data변수를 데이터 프레임화\n",
    "\n",
    "distillery_table = pd.DataFrame(data)"
   ]
  },
  {
   "cell_type": "code",
   "execution_count": null,
   "id": "af0a8a7b-7a66-4da6-909c-170d701b4f46",
   "metadata": {},
   "outputs": [],
   "source": [
    "#데이터 프레임으로 변환된 데이터 csv로 저장\n",
    "\n",
    "distillery_table.to_csv('distillery_table_2023_07_25_VOL2.csv',index=False)"
   ]
  },
  {
   "cell_type": "code",
   "execution_count": null,
   "id": "430e802d-f930-441b-a26a-a41bbd6cf6b7",
   "metadata": {},
   "outputs": [],
   "source": []
  },
  {
   "cell_type": "markdown",
   "id": "65576514-1826-4a76-9813-99ab98d6d454",
   "metadata": {},
   "source": [
    "# Page 2 Scrap"
   ]
  },
  {
   "cell_type": "code",
   "execution_count": 4,
   "id": "d16f1c36-ac62-47f4-a965-a3315c5e11d6",
   "metadata": {},
   "outputs": [],
   "source": [
    "#저장된 csv파일을 불러오기\n",
    "\n",
    "distillery_table = pd.read_csv('distillery_table_2023_07_25_VOL2.csv')"
   ]
  },
  {
   "cell_type": "code",
   "execution_count": 4,
   "id": "666dfec1-8572-44cd-ba64-76258cac24f9",
   "metadata": {},
   "outputs": [],
   "source": [
    "#위스키가 존재하지않는 증류소 제거 \n",
    "\n",
    "distillery_table = distillery_table[distillery_table.whiskies.isna()==False]"
   ]
  },
  {
   "cell_type": "markdown",
   "id": "1ba892e6-37da-4586-bf14-850818734407",
   "metadata": {},
   "source": [
    "### 위스키 정보 링크 수집"
   ]
  },
  {
   "cell_type": "code",
   "execution_count": 151,
   "id": "dea20fc9-4a24-4706-96d5-8c4e6ed281ef",
   "metadata": {},
   "outputs": [],
   "source": [
    "# page 2에서는 위스키 정보수집을 위한 링크만 수집하기에 link 리스트만 선인 및 초기화\n",
    "\n",
    "whikie_link_list = []"
   ]
  },
  {
   "cell_type": "code",
   "execution_count": 6,
   "id": "090abbaf-353f-4cc8-9f32-6618af25d2bf",
   "metadata": {},
   "outputs": [],
   "source": [
    "#위스키 링크 수집 함수 parameter(distillery_table['link'] 증류소 링크), return : x\n",
    "#apply를 사용하여 증류소 링크에 들어가있는 위스키 링크를 수집하는 함수입니다.\n",
    "\n",
    "def scrap_whikies_info(table):\n",
    "    \n",
    "    '''\n",
    "    chrome_options = webdriver.ChromeOptions()              # Page 1 같이 실행시 실행 필요x\n",
    "    chromedriver_autoinstaller.install()\n",
    "    \n",
    "    driver = webdriver.Chrome()\n",
    "    wait = WebDriverWait(driver, 3)\n",
    "    '''\n",
    "    \n",
    "    driver.get(table.link)                                  #증류소 링크 하나씩 드라이버에 넘겨 해당 증류소 사이트 접속\n",
    "    html = driver.page_source                               #해당 페이지에 나와있는 xml태그 html 변수에 저장\n",
    "    soup = BeautifulSoup(html, 'lxml')                      #soup변수에 lxml를 사용하여 진행 -> html.parser가 아닌 lxml를 사용시 대략 10배 속도 향상\n",
    "                                                            #https://docs.kanaries.net/ko/tutorials/Python/python-make-beautiful-soup-faster.ko\n",
    "\n",
    "    \n",
    "    for i in range(len(soup.select(\".photo.buttons\"))):     #위스키 사진기준으로 위스키 갯수를 파악후 반복문으로 링크 수집\n",
    "       '''\n",
    "        try:                                                # 링크만 수집하여 해당 부분 주석처리\n",
    "            whikie_img_list.append(soup.select(\".photo.buttons\")[i].a['href'])      \n",
    "        except:\n",
    "            whikie_img_list.append(None)\n",
    "       '''\n",
    "        \n",
    "        link = soup.select(\".clickable\")                     # clickable이라는 클래명을 가진 태그에서 위스키 링크 추출하여  whikie_link 리스트에 저장\n",
    "        whikie_link_list.append(link[i]['href'])             #홈페이지 종료\n",
    "    driver.close()\n",
    "    "
   ]
  },
  {
   "cell_type": "code",
   "execution_count": 12,
   "id": "1f3c992a-de99-4f42-bf53-32b88690064f",
   "metadata": {
    "collapsed": true,
    "jupyter": {
     "outputs_hidden": true
    },
    "scrolled": true
   },
   "outputs": [
    {
     "name": "stderr",
     "output_type": "stream",
     "text": [
      "100%|██████████████████████████████████████████████████████████████████████████████████████████████████████████████████████████████| 900/900 [7:05:07<00:00, 28.34s/it]\n"
     ]
    },
    {
     "data": {
      "text/plain": [
       "1171    None\n",
       "1172    None\n",
       "1173    None\n",
       "1174    None\n",
       "1175    None\n",
       "        ... \n",
       "2128    None\n",
       "2129    None\n",
       "2130    None\n",
       "2131    None\n",
       "2132    None\n",
       "Length: 900, dtype: object"
      ]
     },
     "execution_count": 12,
     "metadata": {},
     "output_type": "execute_result"
    }
   ],
   "source": [
    "distillery_table.progress_apply(scrap_whikies_info,axis=1)     #apply // progress_apply는 tqdm을 사용하여 얼만큼 진행중인지 모니터링 가능"
   ]
  },
  {
   "cell_type": "code",
   "execution_count": 9,
   "id": "c359400e-8f01-4562-b32c-8371fd4feb01",
   "metadata": {
    "collapsed": true,
    "jupyter": {
     "outputs_hidden": true
    }
   },
   "outputs": [
    {
     "ename": "NameError",
     "evalue": "name 'whikie_link_list' is not defined",
     "output_type": "error",
     "traceback": [
      "\u001b[1;31m---------------------------------------------------------------------------\u001b[0m",
      "\u001b[1;31mNameError\u001b[0m                                 Traceback (most recent call last)",
      "\u001b[1;32m~\\AppData\\Local\\Temp/ipykernel_47132/2340928330.py\u001b[0m in \u001b[0;36m<module>\u001b[1;34m\u001b[0m\n\u001b[0;32m      1\u001b[0m data ={\n\u001b[1;32m----> 2\u001b[1;33m     \u001b[1;34m'whikie_link'\u001b[0m \u001b[1;33m:\u001b[0m \u001b[0mwhikie_link_list\u001b[0m\u001b[1;33m\u001b[0m\u001b[1;33m\u001b[0m\u001b[0m\n\u001b[0m\u001b[0;32m      3\u001b[0m }\n",
      "\u001b[1;31mNameError\u001b[0m: name 'whikie_link_list' is not defined"
     ]
    }
   ],
   "source": [
    "#scrap_whikies_info로 수집된 정보를 데이터 프레임화 시키기 위해 리스트를 각리스트에 맞는 키(컬럼명으로) 매칭후 json형식으로 변환)\n",
    "\n",
    "data ={\n",
    "    'whikie_link' : whikie_link_list\n",
    "}"
   ]
  },
  {
   "cell_type": "code",
   "execution_count": 15,
   "id": "d63974a8-9b02-49f6-b581-b240a4b3819c",
   "metadata": {},
   "outputs": [],
   "source": [
    "#변환된 data변수를 데이터 프레임화\n",
    "\n",
    "whikie_table = pd.DataFrame(data)"
   ]
  },
  {
   "cell_type": "code",
   "execution_count": null,
   "id": "9b56cca8-a952-4a03-9913-d57d4903bb8c",
   "metadata": {},
   "outputs": [],
   "source": [
    "#데이터 프레임으로 변환된 데이터 csv로 저장\n",
    "\n",
    "whikie_table.to_csv('whikie_table_2023_07_25_VOL2.csv',index=False)"
   ]
  },
  {
   "cell_type": "markdown",
   "id": "f3f508b4-027d-45f9-a724-bf28dce6b90a",
   "metadata": {},
   "source": [
    "# Page 3 Scrap"
   ]
  },
  {
   "cell_type": "code",
   "execution_count": 155,
   "id": "9fa101a0-d6a0-480e-9c43-36cac90cdc32",
   "metadata": {},
   "outputs": [],
   "source": [
    "\n",
    "whikie_table = pd.read_csv('whikie_table_1100_2000_2023_07_25_vol1.csv')"
   ]
  },
  {
   "cell_type": "code",
   "execution_count": 156,
   "id": "b6bde60b-6e11-47e6-965b-d3da56d95acf",
   "metadata": {},
   "outputs": [],
   "source": [
    "#위스키 정보 수집"
   ]
  },
  {
   "cell_type": "code",
   "execution_count": 295,
   "id": "fbeadf04-821d-468a-abf7-9c12615b7de2",
   "metadata": {},
   "outputs": [],
   "source": [
    "whiskey_name_list = []\n",
    "whiskey_base_id_list = []\n",
    "category_list = []\n",
    "distillery_list = []\n",
    "bottler_list = []\n",
    "bottled_list = []\n",
    "strength_list = []\n",
    "size_list = []\n",
    "label_list = []\n",
    "market_list = []\n",
    "added_on_list = []\n",
    "calculated_age_list = []\n",
    "casknumber_list = []\n",
    "barcode_list = []\n",
    "casktype_list = []\n",
    "bottleing_serie_list = []\n",
    "number_of_bottles_list = []\n",
    "vintage_list = []\n",
    "bottled_for_list = []\n",
    "over_rating_list = []\n",
    "votes_list = []\n",
    "Stated_Age_list = []\n",
    "Bottle_code_list = [] "
   ]
  },
  {
   "cell_type": "code",
   "execution_count": 296,
   "id": "92f48f74-570d-4760-8cc9-2a5c46bce44a",
   "metadata": {},
   "outputs": [],
   "source": [
    "searching_col_dist = {'Whiskybase ID' : whiskey_base_id_list,\n",
    "'Category' : category_list,\n",
    "'Distillery' : distillery_list,\n",
    "'Bottler' : bottler_list,\n",
    "'Bottled' : bottled_list,\n",
    "'Strength' : strength_list,\n",
    "'Size' : size_list,\n",
    "'Label' : label_list,\n",
    "'Market' : market_list,\n",
    "'Added on' : added_on_list,\n",
    "'Calculated age' : calculated_age_list,\n",
    "'Casknumber' : casknumber_list,\n",
    "'Barcode' : barcode_list,\n",
    "'Casktype' :casktype_list,\n",
    "'Bottling serie' : bottleing_serie_list,\n",
    "'Number of bottles' : number_of_bottles_list,\n",
    "'Vintage' : vintage_list,\n",
    "'Bottled for' : bottled_for_list,\n",
    "'Stated Age' : Stated_Age_list,\n",
    "'Bottle code' : Bottle_code_list}\n",
    "#'Overall rating' : over_rating_list,\n",
    "#'votes' : votes_list         }"
   ]
  },
  {
   "cell_type": "code",
   "execution_count": 297,
   "id": "030ee49a-023d-4a4c-8343-4270df58168e",
   "metadata": {},
   "outputs": [],
   "source": [
    "search_key_list = list(searching_col_dist.keys()) #리스트에 빈값(None) 삽입하기에서 사용하기 위해 변수 선언/"
   ]
  },
  {
   "cell_type": "code",
   "execution_count": 298,
   "id": "3e3b50d4-de7c-47fe-a8d4-963630fb7f91",
   "metadata": {},
   "outputs": [],
   "source": [
    "def scrap_whikies_detail_info(table):\n",
    "    chrome_options = webdriver.ChromeOptions()\n",
    "    chromedriver_autoinstaller.install()\n",
    "\n",
    "    driver = webdriver.Chrome()\n",
    "    wait = WebDriverWait(driver, 3)\n",
    "    \n",
    "    driver.get(table.whikie_link)\n",
    "    html = driver.page_source\n",
    "    soup = BeautifulSoup(html, 'lxml')\n",
    "\n",
    "    whiskey_name_list.append(soup.select('.name header h1')[0].text.strip())\n",
    "\n",
    "    #위스키별 정보 사이트에선 태그구분(클래스명, 아이디명)등으로 구분없이 dt로 되어있어 딕셔너리를 사용하여 키 매칭하여 해당 값을 리스트에 저장\n",
    "    dt_list = soup.select('dt') #딕셔너리에 대한 key 매칭을 위해 수집\n",
    "    dd_list = soup.select('dd') #캐에대한 value값\n",
    "    \n",
    "    for i in range(len(dt_list)):\n",
    "       # print(dt_list[i].text.strip())\n",
    "        if dt_list[i].text.strip() =='Overall rating' or dt_list[i].text.strip() == 'votes'  or dt_list[i].text.strip() == 'vote':  #변경필요 == -> !=으로\n",
    "            pass\n",
    "        else:\n",
    "            searching_col_dist[dt_list[i].text.strip()].append(dd_list[i].text.strip())\n",
    "            over_rating_list.append(soup.select('dd.votes-rating')[0].text.strip()) #딕셔너리에 넣지않은이유는 vote투표수가 여러개일때와 한개일때의 dt태그명이 다른점과 같은 데이터가 2번 추출된다든점에서 따로 진행\n",
    "            votes_list.append(soup.select('dd.votes-count')[0].text.strip())\n",
    "\n",
    "\n",
    "    # 위에 딕셔너리 매칭후 매칭안된 리스트에 빈값(None) 삽입하기\n",
    "    \n",
    "    for search_key in search_key_list:\n",
    "        if (table.name +1) != len(searching_col_dist[search_key]):\n",
    "            searching_col_dist[search_key].append(None)\n",
    "    driver.close()\n",
    "    "
   ]
  },
  {
   "cell_type": "code",
   "execution_count": null,
   "id": "ba759129-f75b-49d8-a751-da26a78b574d",
   "metadata": {},
   "outputs": [
    {
     "name": "stderr",
     "output_type": "stream",
     "text": [
      " 41%|█████████████████████████████████████████████████████▌                                                                            | 35/85 [04:54<06:02,  7.26s/it]"
     ]
    }
   ],
   "source": [
    "whikie_table[15:100].progress_apply(scrap_whikies_detail_info,axis=1)"
   ]
  },
  {
   "cell_type": "code",
   "execution_count": null,
   "id": "b5d6d208-1a4b-4971-bfbf-a5218cf6d928",
   "metadata": {},
   "outputs": [],
   "source": [
    "data = {'Whiskybase ID' : whiskey_base_id_list,\n",
    "'Category' : category_list,\n",
    "'Distillery' : distillery_list,\n",
    "'Bottler' : bottler_list,\n",
    "'Bottled' : bottled_list,\n",
    "'Strength' : strength_list,\n",
    "'Size' : size_list,\n",
    "'Label' : label_list,\n",
    "'Market' : market_list,\n",
    "'Added on' : added_on_list,\n",
    "'Calculated age' : calculated_age_list,\n",
    "'Casknumber' : casknumber_list,\n",
    "'Barcode' : barcode_list,\n",
    "'Casktype' :casktype_list,\n",
    "'Bottling serie' : bottleing_serie_list,\n",
    "'Number of bottles' : number_of_bottles_list,\n",
    "'Vintage' : vintage_list,\n",
    "'Bottled for' : bottled_for_list,\n",
    "'Stated Age' : Stated_Age_list,\n",
    "'Bottle code' : Bottle_code_list,\n",
    "'Overall rating' : over_rating_list,\n",
    "'votes' : votes_list}"
   ]
  },
  {
   "cell_type": "code",
   "execution_count": null,
   "id": "f7ae19a1-0621-486f-bde4-f28c0c6eedca",
   "metadata": {},
   "outputs": [],
   "source": [
    "whiskey_detail_info = pd.DataFrame(data)"
   ]
  }
 ],
 "metadata": {
  "kernelspec": {
   "display_name": "Python 3 (ipykernel)",
   "language": "python",
   "name": "python3"
  },
  "language_info": {
   "codemirror_mode": {
    "name": "ipython",
    "version": 3
   },
   "file_extension": ".py",
   "mimetype": "text/x-python",
   "name": "python",
   "nbconvert_exporter": "python",
   "pygments_lexer": "ipython3",
   "version": "3.9.6"
  }
 },
 "nbformat": 4,
 "nbformat_minor": 5
}
